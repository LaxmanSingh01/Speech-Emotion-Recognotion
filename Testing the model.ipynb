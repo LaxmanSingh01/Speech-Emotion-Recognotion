{
 "cells": [
  {
   "cell_type": "code",
   "execution_count": 1,
   "id": "4de1bd11",
   "metadata": {},
   "outputs": [],
   "source": [
    "import tensorflow.keras\n",
    "import numpy as np\n",
    "import librosa"
   ]
  },
  {
   "cell_type": "code",
   "execution_count": 33,
   "id": "84913c96",
   "metadata": {},
   "outputs": [],
   "source": [
    "class livePredictions:\n",
    "    \"\"\"\n",
    "    Main class of the application.\n",
    "    \"\"\"\n",
    "\n",
    "    def __init__(self, model, file):\n",
    "        \"\"\"\n",
    "        Init method is used to initialize the main parameters.\n",
    "        \"\"\"\n",
    "        self.model = model\n",
    "        self.file = file\n",
    "\n",
    "    def load_model(self):\n",
    "        \"\"\"\n",
    "        Method to load the chosen model.\n",
    "        :param path: path to your h5 model.\n",
    "        :return: summary of the model with the .summary() function.\n",
    "        \"\"\"\n",
    "        self.loaded_model = tensorflow.keras.models.load_model(self.model)\n",
    "        return self.loaded_model.summary()\n",
    "\n",
    "    def makepredictions(self):\n",
    "        \"\"\"\n",
    "        Method to process the files and create your features.\n",
    "        \"\"\"\n",
    "        data, sampling_rate = librosa.load(self.file)\n",
    "        mfccs = np.mean(librosa.feature.mfcc(y=data, sr=sampling_rate, n_mfcc=40).T, axis=0)\n",
    "        x = np.expand_dims(mfccs, axis=1)\n",
    "        x = np.expand_dims(x, axis=0)\n",
    "        predictions = self.loaded_model.predict_classes(x)\n",
    "        print(\"Prediction is\", \" \", self.convertclasstoemotion(predictions))\n",
    "\n",
    "    @staticmethod\n",
    "    def convertclasstoemotion(pred):\n",
    "        \"\"\"\n",
    "        Method to convert the predictions (int) into human readable strings.\n",
    "        \"\"\"\n",
    "        \n",
    "        label_conversion = {'0': 'angry',\n",
    "                            '1': 'disgust',\n",
    "                            '2': 'fear',\n",
    "                            '3': 'happy',\n",
    "                            '4': 'neutral',\n",
    "                            '5': 'surprised',\n",
    "                            '6': 'sad',\n",
    "                            }\n",
    "\n",
    "        for key, value in label_conversion.items():\n",
    "            if int(key) == pred:\n",
    "                label = value\n",
    "        return label"
   ]
  },
  {
   "cell_type": "code",
   "execution_count": 40,
   "id": "03531d0b",
   "metadata": {},
   "outputs": [
    {
     "name": "stdout",
     "output_type": "stream",
     "text": [
      "Model: \"sequential\"\n",
      "_________________________________________________________________\n",
      "Layer (type)                 Output Shape              Param #   \n",
      "=================================================================\n",
      "lstm (LSTM)                  (None, 100)               40800     \n",
      "_________________________________________________________________\n",
      "dense (Dense)                (None, 70)                7070      \n",
      "_________________________________________________________________\n",
      "dropout (Dropout)            (None, 70)                0         \n",
      "_________________________________________________________________\n",
      "dense_1 (Dense)              (None, 35)                2485      \n",
      "_________________________________________________________________\n",
      "dropout_1 (Dropout)          (None, 35)                0         \n",
      "_________________________________________________________________\n",
      "dense_2 (Dense)              (None, 7)                 252       \n",
      "=================================================================\n",
      "Total params: 50,607\n",
      "Trainable params: 50,607\n",
      "Non-trainable params: 0\n",
      "_________________________________________________________________\n",
      "Prediction is   neutral\n"
     ]
    }
   ],
   "source": [
    "# Here you can replace path and file with the path of your model and of the file \n",
    "# Below, I have used a neutral file: the prediction made is neutral.\n",
    "\n",
    "pred = livePredictions(model='lstm_model.h5',file='Dataset\\OAF_neutral\\OAF_bar_neutral.wav')\n",
    "\n",
    "pred.load_model()\n",
    "pred.makepredictions()"
   ]
  },
  {
   "cell_type": "code",
   "execution_count": null,
   "id": "36f4e3bb",
   "metadata": {},
   "outputs": [],
   "source": []
  }
 ],
 "metadata": {
  "kernelspec": {
   "display_name": "Python 3",
   "language": "python",
   "name": "python3"
  },
  "language_info": {
   "codemirror_mode": {
    "name": "ipython",
    "version": 3
   },
   "file_extension": ".py",
   "mimetype": "text/x-python",
   "name": "python",
   "nbconvert_exporter": "python",
   "pygments_lexer": "ipython3",
   "version": "3.9.7"
  }
 },
 "nbformat": 4,
 "nbformat_minor": 5
}
